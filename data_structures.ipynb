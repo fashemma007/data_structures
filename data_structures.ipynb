{
 "cells": [
  {
   "cell_type": "code",
   "execution_count": null,
   "id": "6265f246",
   "metadata": {
    "collapsed": true
   },
   "outputs": [],
   "source": [
    "print( \"\"\"Welcome to the GPA calculator\n",
    "Please enter all your letter grades, one per line.\n",
    "Enter a blank line to designate the end.\"\"\")\n",
    "# map from letter grade to point value\n",
    "points = { 'A+' :4.0, 'A' :4.0, 'A-' :3.67, 'B+' :3.33, 'B' :3.0, 'B-' :2.67,\n",
    "'C+' :2.33, 'C' :2.0, 'C' :1.67, 'D+' :1.33, 'D' :1.0, 'F' :0.0}\n",
    "num_courses = 0\n",
    "total_points = 0\n",
    "done = False\n",
    "while not done:\n",
    "    grade = input( ).upper() # read line from user\n",
    "    if grade =='': # empty line was entered\n",
    "        done = True\n",
    "    elif grade not in points: # unrecognized grade entered\n",
    "        print(\"Unknown grade {0} being ignored\".format(grade))\n",
    "    else:\n",
    "        num_courses += 1\n",
    "        total_points += points[grade]\n",
    "    if num_courses > 0: # avoid division by zero\n",
    "        print( \"Your GPA is {0:.3}\" .format(total_points / num_courses))"
   ]
  },
  {
   "cell_type": "code",
   "execution_count": 61,
   "id": "2ab629ae",
   "metadata": {},
   "outputs": [],
   "source": [
    "### In Feb, how many dollars you spent extra compare to January?\n",
    "month = ['Jan','Feb','Mar','Apr','May']\n",
    "expense = [2200,2350,2600,2130,2190]"
   ]
  },
  {
   "cell_type": "code",
   "execution_count": 62,
   "id": "8d5a83a4",
   "metadata": {},
   "outputs": [
    {
     "data": {
      "text/plain": [
       "150"
      ]
     },
     "execution_count": 62,
     "metadata": {},
     "output_type": "execute_result"
    }
   ],
   "source": [
    "feb_xtra_xpens = expense[month.index('Feb')] - expense[month.index('Jan')] \n",
    "feb_xtra_xpens"
   ]
  },
  {
   "cell_type": "code",
   "execution_count": 63,
   "id": "4a4d1852",
   "metadata": {},
   "outputs": [],
   "source": [
    "### Find out your total expense in first quarter (first three months) of the year.\n",
    "import numpy as np \n",
    "q1_xpens = sum(np.array(expense)[:3])"
   ]
  },
  {
   "cell_type": "code",
   "execution_count": 64,
   "id": "d8681561",
   "metadata": {},
   "outputs": [
    {
     "data": {
      "text/plain": [
       "7150"
      ]
     },
     "execution_count": 64,
     "metadata": {},
     "output_type": "execute_result"
    }
   ],
   "source": [
    "q1_xpens"
   ]
  },
  {
   "cell_type": "code",
   "execution_count": 65,
   "id": "016a95b5",
   "metadata": {},
   "outputs": [
    {
     "data": {
      "text/plain": [
       "False"
      ]
     },
     "execution_count": 65,
     "metadata": {},
     "output_type": "execute_result"
    }
   ],
   "source": [
    "### Find out if you spent exactly 2000 dollars in any month\n",
    "# month[expense.index(2600)]\n",
    "2000 in expense"
   ]
  },
  {
   "cell_type": "code",
   "execution_count": 66,
   "id": "bd75f493",
   "metadata": {},
   "outputs": [],
   "source": [
    "### June month just finished and your expense is 1980 dollar. Add this item to our monthly expense list\n",
    "month.insert(5,'June')\n",
    "expense.insert(5,1980)"
   ]
  },
  {
   "cell_type": "code",
   "execution_count": 67,
   "id": "362f103e",
   "metadata": {},
   "outputs": [],
   "source": [
    "### You returned an item that you bought in a month of April and got a refund of 200$. \n",
    "### Make a correction to your monthly expense list based on this\n",
    "\n",
    "expense.insert(3,expense[3]-200)"
   ]
  },
  {
   "cell_type": "code",
   "execution_count": 68,
   "id": "6c98c099",
   "metadata": {},
   "outputs": [
    {
     "data": {
      "text/plain": [
       "[2200, 2350, 2600, 1930, 2130, 2190, 1980]"
      ]
     },
     "execution_count": 68,
     "metadata": {},
     "output_type": "execute_result"
    }
   ],
   "source": [
    "expense"
   ]
  },
  {
   "cell_type": "code",
   "execution_count": 69,
   "id": "5e8f6d70",
   "metadata": {},
   "outputs": [],
   "source": [
    "heros=['spider man','thor','hulk','iron man','captain america']"
   ]
  },
  {
   "cell_type": "code",
   "execution_count": 70,
   "id": "2d78f56c",
   "metadata": {},
   "outputs": [
    {
     "data": {
      "text/plain": [
       "5"
      ]
     },
     "execution_count": 70,
     "metadata": {},
     "output_type": "execute_result"
    }
   ],
   "source": [
    "### Length of the list\n",
    "len(heros)"
   ]
  },
  {
   "cell_type": "code",
   "execution_count": 71,
   "id": "726f4d43",
   "metadata": {},
   "outputs": [],
   "source": [
    "###  Add 'black panther' at the end of this list\n",
    "heros.append('black panther')"
   ]
  },
  {
   "cell_type": "code",
   "execution_count": 72,
   "id": "93c7c79d",
   "metadata": {},
   "outputs": [
    {
     "data": {
      "text/plain": [
       "['spider man', 'thor', 'hulk', 'iron man', 'captain america', 'black panther']"
      ]
     },
     "execution_count": 72,
     "metadata": {},
     "output_type": "execute_result"
    }
   ],
   "source": [
    "heros"
   ]
  },
  {
   "cell_type": "code",
   "execution_count": 76,
   "id": "0572256a",
   "metadata": {},
   "outputs": [],
   "source": [
    "### You realize that you need to add 'black panther' after 'hulk',\n",
    "### so remove it from the list first and then add it after 'hulk'\n",
    "\n",
    "# heros.pop(heros.index('black panther')) {worked}\n",
    "heros.remove('black panther') ###{best}\n",
    "heros.insert(3,'black panther')"
   ]
  },
  {
   "cell_type": "code",
   "execution_count": 77,
   "id": "bb2286f5",
   "metadata": {},
   "outputs": [
    {
     "data": {
      "text/plain": [
       "['spider man', 'thor', 'hulk', 'black panther', 'iron man', 'captain america']"
      ]
     },
     "execution_count": 77,
     "metadata": {},
     "output_type": "execute_result"
    }
   ],
   "source": [
    "heros"
   ]
  },
  {
   "cell_type": "code",
   "execution_count": 81,
   "id": "cb5d1a1a",
   "metadata": {},
   "outputs": [
    {
     "name": "stdout",
     "output_type": "stream",
     "text": [
      "['spider man', 'doctor strange', 'black panther', 'iron man', 'captain america']\n"
     ]
    }
   ],
   "source": [
    "### Now you don't like thor and hulk because they get angry easily :)\n",
    "### So you want to remove thor and hulk from list and replace them with doctor strange (because he is cool).\n",
    "### Do that with one line of code.\n",
    "\n",
    "heros[1:3]=['doctor strange']\n",
    "print(heros)"
   ]
  },
  {
   "cell_type": "code",
   "execution_count": 82,
   "id": "34d50bd7",
   "metadata": {},
   "outputs": [
    {
     "name": "stdout",
     "output_type": "stream",
     "text": [
      "['black panther', 'captain america', 'doctor strange', 'iron man', 'spider man']\n"
     ]
    }
   ],
   "source": [
    "### Sort the list in alphabetical order\n",
    "heros.sort()\n",
    "print(heros)"
   ]
  },
  {
   "cell_type": "code",
   "execution_count": 87,
   "id": "22a3073d",
   "metadata": {},
   "outputs": [
    {
     "name": "stdout",
     "output_type": "stream",
     "text": [
      "Enter max number: 50\n",
      "[1, 3, 5, 7, 9, 11, 13, 15, 17, 19, 21, 23, 25, 27, 29, 31, 33, 35, 37, 39, 41, 43, 45, 47, 49]\n"
     ]
    }
   ],
   "source": [
    "## Create a list of all odd numbers between 1 and a max number. \n",
    "## Max number is something you need to take from a user using input() function\n",
    "\n",
    "max_num = int(input('Enter max number: ' ))\n",
    "odds =[]\n",
    "for i in range(max_num):\n",
    "    if i%2!=0:\n",
    "        odds.append(i)\n",
    "print(odds)"
   ]
  },
  {
   "cell_type": "code",
   "execution_count": 106,
   "id": "1218c41f",
   "metadata": {},
   "outputs": [
    {
     "name": "stdout",
     "output_type": "stream",
     "text": [
      "625\n"
     ]
    }
   ],
   "source": [
    "sum_odds = 0\n",
    "for val in odds:\n",
    "    sum_odds+=val\n",
    "print (sum_odds)"
   ]
  },
  {
   "cell_type": "code",
   "execution_count": 116,
   "id": "d140d34d",
   "metadata": {},
   "outputs": [
    {
     "name": "stdout",
     "output_type": "stream",
     "text": [
      "0 A\n",
      "1 B\n",
      "2 C\n",
      "3 v\n",
      "4 X\n"
     ]
    }
   ],
   "source": [
    "data = ['A','B','C','v','X','W','Z']\n",
    "j = -1\n",
    "while j< len(data) and data[j]!='X':\n",
    "    j+=1\n",
    "    print(j,data[j])"
   ]
  },
  {
   "cell_type": "code",
   "execution_count": 144,
   "id": "2fc934e6",
   "metadata": {},
   "outputs": [
    {
     "name": "stdout",
     "output_type": "stream",
     "text": [
      "Index is: 8 \n",
      "Value at index is: 456\n"
     ]
    }
   ],
   "source": [
    "big_index = 0\n",
    "dat =[44,100,50,34,210,33,89,220,456,2,5,6,7]\n",
    "for a in range(len(dat)):\n",
    "    if dat[a] > dat[big_index]:\n",
    "        big_index = a\n",
    "print(\"Index is:\",big_index,\"\\nValue at index is:\",dat[big_index])"
   ]
  },
  {
   "cell_type": "code",
   "execution_count": 169,
   "id": "fb2918b3",
   "metadata": {},
   "outputs": [],
   "source": [
    "### The following function counts the number of occurrences of a given target\n",
    "### value within any form of iterable data set.\n",
    "lists = [44,100,50,34,210,33,89,220,456,2,5,6,7,44]\n",
    "target = 220\n",
    "def count(lists,target):\n",
    "    n = 0\n",
    "    for i in lists:\n",
    "        if i == target:\n",
    "            n+=1\n",
    "    return n\n",
    "            \n",
    "    \n",
    "def scale(data, factor):\n",
    "    for j in range(len(data)):\n",
    "        data[j] *= factor\n",
    "    return data"
   ]
  },
  {
   "cell_type": "code",
   "execution_count": 164,
   "id": "9c7590fc",
   "metadata": {},
   "outputs": [
    {
     "data": {
      "text/plain": [
       "2"
      ]
     },
     "execution_count": 164,
     "metadata": {},
     "output_type": "execute_result"
    }
   ],
   "source": [
    "count(lists,44)"
   ]
  },
  {
   "cell_type": "code",
   "execution_count": 170,
   "id": "1b3e05fa",
   "metadata": {},
   "outputs": [
    {
     "data": {
      "text/plain": [
       "[1760,\n",
       " 4000,\n",
       " 2000,\n",
       " 1360,\n",
       " 8400,\n",
       " 1320,\n",
       " 3560,\n",
       " 8800,\n",
       " 18240,\n",
       " 80,\n",
       " 200,\n",
       " 240,\n",
       " 280,\n",
       " 1760]"
      ]
     },
     "execution_count": 170,
     "metadata": {},
     "output_type": "execute_result"
    }
   ],
   "source": [
    "scale(lists,40)"
   ]
  },
  {
   "cell_type": "code",
   "execution_count": 254,
   "id": "7dd53f76",
   "metadata": {},
   "outputs": [
    {
     "name": "stdout",
     "output_type": "stream",
     "text": [
      " Enter your age in years:25\n",
      "Your target fat-burning heart rate is  123.59750000000001\n"
     ]
    }
   ],
   "source": [
    "age = int(input(\" Enter your age in years:\" ))\n",
    "max_heart_rate = 206.9 - (0.67 * age) \n",
    "target = 0.65 *max_heart_rate\n",
    "print( \"Your target fat-burning heart rate is \", target)"
   ]
  },
  {
   "cell_type": "code",
   "execution_count": 267,
   "id": "66a501d1",
   "metadata": {},
   "outputs": [],
   "source": [
    "fp = open(r\"C:\\Users\\efaso\\Documents\\test.txt\")"
   ]
  },
  {
   "cell_type": "code",
   "execution_count": 268,
   "id": "dab9c047",
   "metadata": {},
   "outputs": [
    {
     "name": "stdout",
     "output_type": "stream",
     "text": [
      "Your target fat-burning heart rate is abc\n",
      "\n",
      "Your target fat-burning heart rate is  123.59750000000001\n",
      "\n"
     ]
    }
   ],
   "source": [
    "for line in fp:\n",
    "    print ( (line))"
   ]
  },
  {
   "cell_type": "code",
   "execution_count": 260,
   "id": "4c7e2a32",
   "metadata": {},
   "outputs": [
    {
     "data": {
      "text/plain": [
       "59"
      ]
     },
     "execution_count": 260,
     "metadata": {},
     "output_type": "execute_result"
    }
   ],
   "source": [
    "fp.tell()"
   ]
  },
  {
   "cell_type": "code",
   "execution_count": 266,
   "id": "ec622ec9",
   "metadata": {},
   "outputs": [],
   "source": [
    "fp = open(r\"C:\\Users\\efaso\\Documents\\test.txt\",\"w\")\n",
    "fp.writelines(\"Your target fat-burning heart rate is abc\\n\")\n",
    "print(\"Your target fat-burning heart rate is \", target, file=fp)\n",
    "fp.close()"
   ]
  },
  {
   "cell_type": "markdown",
   "id": "be712626",
   "metadata": {},
   "source": [
    "### Linked List\n",
    "\n"
   ]
  },
  {
   "cell_type": "code",
   "execution_count": 134,
   "id": "c7a79942",
   "metadata": {},
   "outputs": [
    {
     "name": "stdout",
     "output_type": "stream",
     "text": [
      "Orange=-->Banana=-->Mango=-->Soursop=-->Cashew=-->\n"
     ]
    },
    {
     "data": {
      "text/plain": [
       "'Guava is not in Linked list'"
      ]
     },
     "execution_count": 134,
     "metadata": {},
     "output_type": "execute_result"
    }
   ],
   "source": [
    "class Node:\n",
    "    # Node:data(value),next(next_value)\n",
    "    def __init__(self,data=None,next=None):\n",
    "        self.data = data ## the data value stored\n",
    "        self.next = next ##value each it is pointing to next. If None, then it is end of list\n",
    "class LinkedList:\n",
    "    def __init__(self):\n",
    "        self.head =None ## by default Head is none because the list is initially empty\n",
    "    \n",
    "    def insert_infront(self,data):\n",
    "        \"\"\"Inserts the given data at the begining of the linked list\"\"\"\n",
    "        node = Node(data,self.head) ## placing the data in the node and giving it the attribute of Head\n",
    "        self.head = node ## pointing Head attribute to the new node\n",
    "    \n",
    "    def show(self):\n",
    "        if self.head is None: ## check if list is empty by checking if there is no head\n",
    "            print(\"Linked list is empty\")\n",
    "            return\n",
    "        iterator = self.head ## iterator to run thru the linked list\n",
    "        string = ''  ## string where values in the list would be appended to\n",
    "        while iterator: ## as far as the iterator isn't None...\n",
    "            string +=str(iterator.data)+'=-->' ##append the data in iterator to the string and separate by =-->\n",
    "            iterator = iterator.next ## do this again until there is no Next value\n",
    "        print(string)\n",
    "    \n",
    "    def insert_end(self,data):\n",
    "        \"\"\"Inserts the given data to the end of the linked list\"\"\"\n",
    "        if self.head is None: ## checks if list is empty\n",
    "            self.head = Node(data,None) ## then make the new data the head with next val as None\n",
    "            return\n",
    "        iterator = self.head \n",
    "        while iterator.next: ## keeps on looking for the next Node iteratively\n",
    "            iterator = iterator.next \n",
    "        iterator.next = Node(data,None) ## once you find the node without a Next, ie Next=None, stop\n",
    "    \n",
    "    def insert_vals(self,data_list):\n",
    "        \"\"\"Inserts the given lists into the linked list\"\"\"\n",
    "        self.head = None\n",
    "        for data in data_list:\n",
    "            self.insert_end(data)\n",
    "    \n",
    "    def length(self):\n",
    "        \"\"\"Returns the length of the linked list\"\"\"\n",
    "        count = 0\n",
    "        iterator = self.head\n",
    "        while iterator:\n",
    "            count+=1\n",
    "            iterator=iterator.next\n",
    "        \n",
    "        return count\n",
    "        \n",
    "    def remove_at(self,indx):\n",
    "        if indx <0 or indx>=self.length():\n",
    "            raise Exception(\"Invalid index\")\n",
    "        \n",
    "        if indx == 0:\n",
    "            self.head = self.head.next\n",
    "            return\n",
    "        count = 0\n",
    "        iterator = self.head\n",
    "        while iterator:\n",
    "            if count == indx-1:\n",
    "                iterator.next =iterator.next.next\n",
    "                break\n",
    "            iterator = iterator.next\n",
    "            count +=1\n",
    "    \n",
    "    def insert_at(self,indx,data):\n",
    "        if indx <0 or indx>=self.length():\n",
    "            raise Exception(\"Invalid index\")\n",
    "        \n",
    "        if indx == 0:\n",
    "            self.insert_infront(data)\n",
    "            \n",
    "            return\n",
    "        count = 0\n",
    "        iterator = self.head\n",
    "        while iterator:\n",
    "            if count == indx-1:\n",
    "                node = Node(data,iterator.next)\n",
    "                iterator.next =node\n",
    "                break\n",
    "            \n",
    "            iterator = iterator.next\n",
    "            count +=1\n",
    "    \n",
    "    def insert_after_value(self, data_after, new):\n",
    "        if self.head is None:\n",
    "            return\n",
    "        \n",
    "        if self.head.data==data_after:\n",
    "            self.head.next = Node(new,self.head.next)\n",
    "            return\n",
    "\n",
    "        iterator = self.head\n",
    "        while iterator:\n",
    "            if iterator.data == data_after:\n",
    "                iterator.next = Node(new, iterator.next)\n",
    "                break\n",
    "\n",
    "            iterator = iterator.next\n",
    "    \n",
    "    \n",
    "    def remove_by_value(self, data):\n",
    "        if self.head is None:\n",
    "            return\n",
    "\n",
    "        if self.head.data == data:\n",
    "            self.head = self.head.next\n",
    "            return\n",
    "\n",
    "        iterator = self.head\n",
    "        while iterator.next:\n",
    "            if iterator.next.data == data:\n",
    "                iterator.next = iterator.next.next\n",
    "                break\n",
    "            iterator = iterator.next\n",
    "        \n",
    "    def check(self,data):\n",
    "        \"\"\"Checks if a given object is in the linked list\"\"\"\n",
    "        lists = self.head\n",
    "        while lists:\n",
    "            if lists.data==data:\n",
    "                return data+\" is in Linked list\"\n",
    "            lists = lists.next\n",
    "        return data+\" is not in Linked list\"\n",
    "        \n",
    "# if __name__ == '__main__':\n",
    "fruit = LinkedList()\n",
    "fruit.insert_infront(\"Mango\")\n",
    "fruit.insert_infront(\"Banana\")\n",
    "fruit.insert_infront(\"Orange\")\n",
    "fruit.insert_end(\"Cashew\")\n",
    "fruit.insert_after_value(\"Mango\",\"Soursop\")\n",
    "fruit.show()\n",
    "fruit.check(\"Guava\")\n",
    "# fruit.check(\"Soursop\")\n",
    "    "
   ]
  },
  {
   "cell_type": "code",
   "execution_count": 121,
   "id": "d1e50840",
   "metadata": {},
   "outputs": [
    {
     "data": {
      "text/plain": [
       "'Guava is not in Linked list'"
      ]
     },
     "execution_count": 121,
     "metadata": {},
     "output_type": "execute_result"
    }
   ],
   "source": [
    "class Node:\n",
    "    def __init__(self,data,next=None):\n",
    "        self.data = data\n",
    "        self.next = next\n",
    "\n",
    "class Linked:\n",
    "    def __init__(self):\n",
    "        self.head = None\n",
    "        \n",
    "    def append(self,data):\n",
    "        new_node = Node(data)\n",
    "        last = self.head\n",
    "        if self.head is None:\n",
    "            self.head = new_node\n",
    "            return new_node\n",
    "        while last.next:\n",
    "            last = last.next\n",
    "        last.next=new_node\n",
    "    \n",
    "    def prepend(self,data):\n",
    "        new_head = Node(data)\n",
    "        \n",
    "        new_head.next = self.head  \n",
    "        self.head = new_head\n",
    "        \n",
    "    def add_after(self,prev,data):\n",
    "        if not prev:\n",
    "            print(\"Given data not found in the linked list\")\n",
    "            return\n",
    "        if self.head.data==prev:\n",
    "            self.head.next= Node(data,self.head.next)\n",
    "            return\n",
    "        \n",
    "        itr = self.head\n",
    "        while itr:\n",
    "            if itr.data == prev:\n",
    "                itr.next =Node(data,itr.next)\n",
    "                break\n",
    "            itr = itr.next      \n",
    "        \n",
    "    def show(self):\n",
    "        cursor = self.head\n",
    "        lists = ''\n",
    "        while cursor:\n",
    "            lists+=cursor.data.upper()+\"---> \"\n",
    "            cursor= cursor.next\n",
    "        return lists\n",
    "    \n",
    "    def check(self,data):\n",
    "        \"\"\"Checks if a given object is in the linked list\"\"\"\n",
    "        lists = self.head\n",
    "        while lists:\n",
    "            if lists.data==data:\n",
    "                return data+\" is in Linked list\"\n",
    "            lists = lists.next\n",
    "        return data+\" is not in Linked list\"\n",
    "\n",
    "\n",
    "\n",
    "fruit = Linked()\n",
    "fruit.append(\"Cashew\")\n",
    "fruit.append(\"Orange\")\n",
    "fruit.prepend(\"Banana\")\n",
    "fruit.add_after(\"Orange\",\"Sugar\")\n",
    "fruit.check(\"Guava\")\n",
    "# fruit.show()\n"
   ]
  },
  {
   "cell_type": "markdown",
   "id": "26b05644",
   "metadata": {},
   "source": [
    "### Stacks & Queues"
   ]
  },
  {
   "cell_type": "code",
   "execution_count": 210,
   "id": "f707a6c9",
   "metadata": {},
   "outputs": [
    {
     "data": {
      "text/plain": [
       "deque([0, 1, 2, 3, 4])"
      ]
     },
     "execution_count": 210,
     "metadata": {},
     "output_type": "execute_result"
    }
   ],
   "source": [
    "from collections import deque\n",
    "\n",
    "class Queue:\n",
    "    def create(self,n):\n",
    "        queue=deque([i for i in range (n)])\n",
    "        return queue\n",
    "    # queue\n",
    "    # def show(val=queue):\n",
    "        \n",
    "        return \n",
    "\n",
    "q1 = Queue()\n",
    "q1.create(5)\n",
    "# q1.delete()    \n",
    "# q1.show()"
   ]
  },
  {
   "cell_type": "code",
   "execution_count": null,
   "id": "a41c990f",
   "metadata": {},
   "outputs": [],
   "source": []
  },
  {
   "cell_type": "code",
   "execution_count": null,
   "id": "9be639db",
   "metadata": {},
   "outputs": [],
   "source": []
  },
  {
   "cell_type": "markdown",
   "id": "5bac3d91",
   "metadata": {},
   "source": [
    "### Classes & Methods"
   ]
  },
  {
   "cell_type": "code",
   "execution_count": 67,
   "id": "5c7f929c",
   "metadata": {},
   "outputs": [
    {
     "data": {
      "text/plain": [
       "'Hi Emmanuel, you are 31yrs old'"
      ]
     },
     "execution_count": 67,
     "metadata": {},
     "output_type": "execute_result"
    }
   ],
   "source": [
    "def greet(f_name,year):\n",
    "    age = 2021 - year\n",
    "    greet = (f\"Hi {f_name}, you are {age}yrs old\")\n",
    "    return greet\n",
    "\n",
    "greet(\"Emmanuel\", 1990)"
   ]
  },
  {
   "cell_type": "code",
   "execution_count": 71,
   "id": "d51ab2c9",
   "metadata": {},
   "outputs": [
    {
     "name": "stdout",
     "output_type": "stream",
     "text": [
      "20\n"
     ]
    }
   ],
   "source": [
    "def sums(*d):\n",
    "    \"\"\"Returns a sum of all numbers passed in\"\"\"\n",
    "    tot=0\n",
    "    for i in d:\n",
    "       tot+=i\n",
    "    return tot\n",
    "print(sums(2,3,4,5,6))"
   ]
  },
  {
   "cell_type": "code",
   "execution_count": 197,
   "id": "f80df85e",
   "metadata": {},
   "outputs": [
    {
     "name": "stdout",
     "output_type": "stream",
     "text": [
      "  Taiwo \n",
      "    Weds💍\n",
      "       Emmanuel\n",
      "Taiwo is 23 years old\n"
     ]
    }
   ],
   "source": [
    "import datetime \n",
    "\n",
    "class User:\n",
    "    \"\"\"This class takes in User details such as full name and date of birth in yyyymmdd format \n",
    "    and stores the information in user friendly formats for easy use\"\"\"\n",
    "    def __init__(self,full_name,bday) -> None:\n",
    "        self.name = full_name\n",
    "        self.birthday = bday\n",
    "        ### Extract first and last names\n",
    "        names =full_name.split(\" \") ##splits where it finds space {i.e. btw the names}\n",
    "        self.first_name = names[0]\n",
    "        self.last_name = names[1]\n",
    "        \n",
    "        ### Playing with bday\n",
    "        # MonthDict={ 1 : \"January\",\n",
    "        #     2 : \"February\",\n",
    "        #     3 : \"March\",\n",
    "        #     4 : \"April\",\n",
    "        #     5 : \"May\",\n",
    "        #     6 : \"June\",\n",
    "        #     7 : \"July\",\n",
    "        #     8 : \"August\",\n",
    "        #     9 : \"September\",\n",
    "        #     10 : \"October\",\n",
    "        #     11 : \"November\",\n",
    "        #     12 : \"December\"\n",
    "        # }\n",
    "        # dob = bday.split(\" \")\n",
    "        # self.year= dob[0]\n",
    "        # self.month = MonthDict[int(dob[1])]\n",
    "        # self.day = dob[2]\n",
    "        # self.birthday = self.day+\" \"+self.month+\",\"+self.year\n",
    "    \n",
    "    def age (self):\n",
    "        \"\"\"Returns the users age in years\n",
    "        \"\"\"\n",
    "        # tod = date.today()\n",
    "        # today = datetime.date(tod.strftime(\"%Y,%m,%d\"))\n",
    "        \n",
    "        today = datetime.date(2021,12,18)\n",
    "        year = int(self.birthday[:4])\n",
    "        mm = int(self.birthday[5:6])\n",
    "        dd = int(self.birthday[7:8])\n",
    "        dob = datetime.date(year,mm,dd)\n",
    "        age_in_days =(today - dob).days\n",
    "        age_in_yrs = age_in_days / 365 \n",
    "        \n",
    "        return int(age_in_yrs)\n",
    "\n",
    "user1 = User(\"Taiwo Agboola\",\"19980513\")\n",
    "\n",
    "\n",
    "user2 = User(\"Emmanuel Fasogba\", \"19950503\")\n",
    "\n",
    "print(\" \",user1.first_name,\"\\n    Weds💍\\n      \",user2.first_name)\n",
    "print(user1.first_name,\"is\",user1.age(),\"years old\")\n"
   ]
  },
  {
   "cell_type": "code",
   "execution_count": null,
   "id": "52e77c43",
   "metadata": {},
   "outputs": [
    {
     "name": "stdout",
     "output_type": "stream",
     "text": [
      "360\n"
     ]
    }
   ],
   "source": [
    "import turtle\n",
    "\n",
    "class Polygons:\n",
    "    def __init__(self,name,sides,color = \"red\"):\n",
    "        self.name = name\n",
    "        self.no_of_sides = sides\n",
    "        self.angles = ((self.no_of_sides-2)*180)/(self.no_of_sides)\n",
    "        self.pensize = self.no_of_sides*2\n",
    "        self.size = self.no_of_sides*50\n",
    "        self.color = color\n",
    "    \n",
    "    def sum_angles(self):\n",
    "        return (self.no_of_sides-2)*180\n",
    "    \n",
    "    def draw(self):\n",
    "        turtle.pensize(self.pensize)\n",
    "        turtle.color(self.color)\n",
    "        for i in range(self.no_of_sides):\n",
    "            turtle.forward(self.size)\n",
    "            turtle.right(180-self.angles)\n",
    "        turtle.done\n",
    "        \n",
    "class Square(Polygons):\n",
    "    def __init__(self,color=\"green\"):\n",
    "        \"\"\"A sub class which inherits attributes and methods from the parent\"\"\"\n",
    "        super().__init__(\"square\",4, color=color)\n",
    "            \n",
    "poly3 = Polygons(\"Triangle\",3)\n",
    "poly4 = Polygons(\"Square\",4,)\n",
    "poly5 = Polygons(\"Pentagon\",5,\"yellow\")\n",
    "poly6 = Polygons(\"Hexagon\",6,\"blue\")\n",
    "\n",
    "\n",
    "# draw_poly = [poly3.draw(),poly4.draw(),poly5.draw(),poly6.draw()]\n",
    "square = Square()\n",
    "print(square.sum_angles())\n",
    "square.draw()"
   ]
  },
  {
   "cell_type": "code",
   "execution_count": 5,
   "id": "7c52a489",
   "metadata": {},
   "outputs": [
    {
     "data": {
      "text/plain": [
       "10.0"
      ]
     },
     "execution_count": 5,
     "metadata": {},
     "output_type": "execute_result"
    }
   ],
   "source": [
    "class Maths:\n",
    "    \n",
    "    def __init__(self,x,y,z=0) -> None:\n",
    "        self.x = x \n",
    "        self.y = y \n",
    "        self.z = z \n",
    "    \n",
    "    def __mul__(self,other):\n",
    "        x = self.x * other.x\n",
    "        y = self.y * other.y\n",
    "        z = self.z * other.z\n",
    "        return Maths(x,y,z)\n",
    "\n",
    "point1 = Maths(2,3,4)\n",
    "point2 = Maths(5,3.33,2.5)\n",
    "mul = (point1*point2)\n",
    "mul.z"
   ]
  },
  {
   "cell_type": "markdown",
   "id": "ffd65481",
   "metadata": {},
   "source": [
    "### List Comprehension"
   ]
  },
  {
   "cell_type": "code",
   "execution_count": 149,
   "id": "65d3f2e8",
   "metadata": {},
   "outputs": [],
   "source": [
    "import numpy as np\n",
    "nums = [1,2,3,4,5,6,7,8,9,10]\n",
    "add = [val*val for val in nums if val % 2==0]\n",
    "add\n",
    "mult = [(val**val) for val in nums]\n"
   ]
  },
  {
   "cell_type": "markdown",
   "id": "2a752f09",
   "metadata": {},
   "source": [
    "### Hashmaps & Dictionary"
   ]
  },
  {
   "cell_type": "code",
   "execution_count": 147,
   "id": "045f12ce",
   "metadata": {},
   "outputs": [
    {
     "data": {
      "text/plain": [
       "'900\\n'"
      ]
     },
     "execution_count": 147,
     "metadata": {},
     "output_type": "execute_result"
    }
   ],
   "source": [
    "planet_dist = {}\n",
    "with open(\"C:/Users/efaso/Documents/distance_table.csv\",\"r\") as dist_table:\n",
    "    for line in dist_table:\n",
    "        tokens = line.split(',')\n",
    "        planet = tokens[0]\n",
    "        distance = tokens[1]\n",
    "        planet_dist[planet]=distance\n",
    "planet_dist['Sun']"
   ]
  },
  {
   "cell_type": "code",
   "execution_count": 148,
   "id": "ee2a9faa",
   "metadata": {},
   "outputs": [],
   "source": [
    "class HashTable:\n",
    "    def __init__(self):\n",
    "        self.Max = 100\n",
    "        self.list = [\"Empty\" for i in range(self.Max)]\n",
    "\n",
    "    def gen_hash(self,key):\n",
    "        hash = 0\n",
    "        for character in key:\n",
    "            hash+=ord(character)\n",
    "        return hash % self.Max\n",
    "    \n",
    "    def add(self,key,val):\n",
    "        hash = self.gen_hash(key)\n",
    "        self.list[hash]=val"
   ]
  },
  {
   "cell_type": "code",
   "execution_count": 152,
   "id": "16943a46",
   "metadata": {},
   "outputs": [
    {
     "data": {
      "text/plain": [
       "['Empty',\n",
       " 'Empty',\n",
       " 'Empty',\n",
       " 'Empty',\n",
       " 'Empty',\n",
       " 'Empty',\n",
       " 'Empty',\n",
       " 'Empty',\n",
       " 'Empty',\n",
       " 'Empty',\n",
       " 'Empty',\n",
       " 'Empty',\n",
       " 'Empty',\n",
       " 'Empty',\n",
       " 'Empty',\n",
       " 'Empty',\n",
       " 'Empty',\n",
       " 'Empty',\n",
       " 'Empty',\n",
       " 'Empty',\n",
       " 'Empty',\n",
       " 'Empty',\n",
       " 'Empty',\n",
       " 'Empty',\n",
       " 'Empty',\n",
       " 'Empty',\n",
       " 'Empty',\n",
       " 'Empty',\n",
       " 'Empty',\n",
       " 'Empty',\n",
       " 'Empty',\n",
       " 'Empty',\n",
       " 'Empty',\n",
       " 'Empty',\n",
       " 'Empty',\n",
       " 'Empty',\n",
       " 'Empty',\n",
       " 'Empty',\n",
       " 'Empty',\n",
       " 'Empty',\n",
       " 'Empty',\n",
       " 'Empty',\n",
       " 'Empty',\n",
       " 'Empty',\n",
       " 'Empty',\n",
       " 'Empty',\n",
       " 'Empty',\n",
       " 'Empty',\n",
       " 'Empty',\n",
       " 'Empty',\n",
       " 'Empty',\n",
       " 'Empty',\n",
       " 'Empty',\n",
       " 'Empty',\n",
       " 'Empty',\n",
       " 'Empty',\n",
       " 'Empty',\n",
       " 'Empty',\n",
       " 'Empty',\n",
       " 'Empty',\n",
       " 'Empty',\n",
       " 'Empty',\n",
       " 'Empty',\n",
       " 'Empty',\n",
       " 'Empty',\n",
       " 'Empty',\n",
       " 'Empty',\n",
       " 'Empty',\n",
       " 'Empty',\n",
       " 'Empty',\n",
       " 'Empty',\n",
       " 'Empty',\n",
       " 'Empty',\n",
       " 'Empty',\n",
       " 'Empty',\n",
       " 'Empty',\n",
       " 'Empty',\n",
       " 'Empty',\n",
       " 'Empty',\n",
       " 'Empty',\n",
       " 'Empty',\n",
       " 'Empty',\n",
       " 'Empty',\n",
       " 'Empty',\n",
       " 'Empty',\n",
       " 'Empty',\n",
       " 'Empty',\n",
       " 'Empty',\n",
       " 'Empty',\n",
       " 'Empty',\n",
       " 'Empty',\n",
       " 'Empty',\n",
       " 'Empty',\n",
       " 'Empty',\n",
       " 'Empty',\n",
       " 'Empty',\n",
       " 'Empty',\n",
       " 'Empty',\n",
       " 150,\n",
       " 'Empty']"
      ]
     },
     "execution_count": 152,
     "metadata": {},
     "output_type": "execute_result"
    }
   ],
   "source": [
    "fruit_prices = HashTable()\n",
    "fruit_prices.add('Mango',150)\n",
    "fruit_prices.list"
   ]
  },
  {
   "cell_type": "code",
   "execution_count": null,
   "id": "1c6edd4f",
   "metadata": {},
   "outputs": [],
   "source": []
  },
  {
   "cell_type": "markdown",
   "id": "7668d0d3",
   "metadata": {},
   "source": [
    "### Lambda Functions"
   ]
  },
  {
   "cell_type": "code",
   "execution_count": 153,
   "id": "8d405841",
   "metadata": {},
   "outputs": [
    {
     "data": {
      "text/plain": [
       "'Emmanuel Fasogba'"
      ]
     },
     "execution_count": 153,
     "metadata": {},
     "output_type": "execute_result"
    }
   ],
   "source": [
    "full_name = lambda fn,ln:fn.strip().title()+\" \"+ln.strip().title()\n",
    "\n",
    "full_name(\"emmanuel   \", \"fAsogba\")"
   ]
  },
  {
   "cell_type": "markdown",
   "id": "f3cdd00c",
   "metadata": {},
   "source": [
    "### FizzBuzz"
   ]
  },
  {
   "cell_type": "code",
   "execution_count": 64,
   "id": "4cbdd50a",
   "metadata": {},
   "outputs": [],
   "source": [
    "def fizz_buzz(input):\n",
    "    if (input %3 == 0) and (input % 5 == 0):\n",
    "        return \"FizzBuzz\"\n",
    "    if input %3 == 0:\n",
    "        return \"Fizz\"\n",
    "    if input %5 == 0:\n",
    "        return \"Buzz\"\n",
    "    return input"
   ]
  },
  {
   "cell_type": "code",
   "execution_count": 66,
   "id": "ce404dca",
   "metadata": {},
   "outputs": [
    {
     "data": {
      "text/plain": [
       "1"
      ]
     },
     "execution_count": 66,
     "metadata": {},
     "output_type": "execute_result"
    }
   ],
   "source": [
    "fizz_buzz(1)"
   ]
  },
  {
   "cell_type": "code",
   "execution_count": 52,
   "id": "4380c767",
   "metadata": {},
   "outputs": [],
   "source": [
    "def fizz_buzz(input):\n",
    "    if input %3 == 0 and input % 5 == 0:\n",
    "        return \"FizzBuzz\"\n",
    "    elif input % 5 == 0:\n",
    "        return \"Buzz\"\n",
    "    elif input % 3 == 0:\n",
    "        return \"Fizz\"\n",
    "    else:\n",
    "        return input"
   ]
  },
  {
   "cell_type": "code",
   "execution_count": null,
   "id": "469b9130",
   "metadata": {},
   "outputs": [],
   "source": []
  },
  {
   "cell_type": "code",
   "execution_count": null,
   "id": "d93c3b3d",
   "metadata": {},
   "outputs": [],
   "source": []
  }
 ],
 "metadata": {
  "kernelspec": {
   "display_name": "Python 3 (ipykernel)",
   "language": "python",
   "name": "python3"
  },
  "language_info": {
   "codemirror_mode": {
    "name": "ipython",
    "version": 3
   },
   "file_extension": ".py",
   "mimetype": "text/x-python",
   "name": "python",
   "nbconvert_exporter": "python",
   "pygments_lexer": "ipython3",
   "version": "3.9.7"
  }
 },
 "nbformat": 4,
 "nbformat_minor": 5
}
